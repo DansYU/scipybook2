{
 "cells": [
  {
   "cell_type": "markdown",
   "metadata": {},
   "source": [
    "## 本书提供的魔法命令"
   ]
  },
  {
   "cell_type": "markdown",
   "metadata": {},
   "source": [
    "### ％C"
   ]
  },
  {
   "cell_type": "markdown",
   "metadata": {},
   "source": [
    "`%C`将多个输出横排显示，减少书中的空白："
   ]
  },
  {
   "cell_type": "code",
   "execution_count": 1,
   "metadata": {},
   "outputs": [
    {
     "name": "stderr",
     "output_type": "stream",
     "text": [
      "d:\\program files\\python\\lib\\site-packages\\matplotlib\\__init__.py:913: UserWarning: axes.color_cycle is deprecated and replaced with axes.prop_cycle; please use the latter.\n",
      "  warnings.warn(self.msg_depr % (key, alt_key))\n"
     ]
    },
    {
     "name": "stdout",
     "output_type": "stream",
     "text": [
      "        df              df[df.A > 50]       df[[\"A\", \"D\"]]     df.sum(axis=1)\n",
      "-----------------     -----------------     --------------     --------------\n",
      "    A   B   C   D         A   B   C   D         A   D          0    200      \n",
      "0  74  35  84   7     0  74  35  84   7     0  74   7          1    221      \n",
      "1  13  68  49  91     2  69  92  61  58     1  13  91          2    280      \n",
      "2  69  92  61  58     4  94  32  44  58     2  69  58          3    197      \n",
      "3  38  49  49  61     5  86  30  26  40     3  38  61          4    228      \n",
      "4  94  32  44  58     6  57  14  73   6     4  94  58          5    182      \n",
      "5  86  30  26  40     9  93   8   8   1     5  86  40          6    150      \n",
      "6  57  14  73   6                           6  57   6          7     34      \n",
      "7   5  15  14   0                           7   5   0          8    232      \n",
      "8  30  95  57  50                           8  30  50          9    110      \n",
      "9  93   8   8   1                           9  93   1          dtype: int64  \n"
     ]
    }
   ],
   "source": [
    "import pandas as pd\n",
    "import numpy as np\n",
    "df = pd.DataFrame(np.random.randint(0, 100, (10, 4)), columns=[\"A\", \"B\", \"C\", \"D\"])\n",
    "%C 5 df; df[df.A > 50]; df[[\"A\", \"D\"]]; df.sum(axis=1)"
   ]
  },
  {
   "cell_type": "markdown",
   "metadata": {},
   "source": [
    "### %find"
   ]
  },
  {
   "cell_type": "markdown",
   "metadata": {},
   "source": [
    "`%find`在指定的对象中搜索属性，下面的程序在`np`中搜索以`array`开头，或者包含`mul`的属性名："
   ]
  },
  {
   "cell_type": "code",
   "execution_count": 2,
   "metadata": {},
   "outputs": [
    {
     "data": {
      "text/plain": [
       "['array',\n",
       " 'array2string',\n",
       " 'array_equal',\n",
       " 'array_equiv',\n",
       " 'array_repr',\n",
       " 'array_split',\n",
       " 'array_str',\n",
       " 'matmul',\n",
       " 'multiply',\n",
       " 'polymul',\n",
       " 'ravel_multi_index']"
      ]
     },
     "execution_count": 2,
     "metadata": {},
     "output_type": "execute_result"
    }
   ],
   "source": [
    "%find array* *mul* np"
   ]
  },
  {
   "cell_type": "markdown",
   "metadata": {},
   "source": [
    "### %%cut"
   ]
  },
  {
   "cell_type": "markdown",
   "metadata": {},
   "source": [
    "`%%cut`限制程序输出的总字符数或总行数："
   ]
  },
  {
   "cell_type": "code",
   "execution_count": 5,
   "metadata": {},
   "outputs": [
    {
     "name": "stdout",
     "output_type": "stream",
     "text": [
      "I am line 0\n",
      "I am line 1\n",
      "I am line 2\n",
      "I am line 3\n",
      "I am line 4"
     ]
    },
    {
     "ename": "OSError",
     "evalue": "Too many lines",
     "output_type": "error",
     "traceback": [
      "\u001b[1;31m---------------------------------------------------------------------------\u001b[0m",
      "\u001b[1;31mOSError\u001b[0m                                   Traceback (most recent call last)",
      "\u001b[1;32m<ipython-input-5-625f8d7429bf>\u001b[0m in \u001b[0;36m<module>\u001b[1;34m()\u001b[0m\n\u001b[0;32m      1\u001b[0m \u001b[1;32mfor\u001b[0m \u001b[0mi\u001b[0m \u001b[1;32min\u001b[0m \u001b[0mrange\u001b[0m\u001b[1;33m(\u001b[0m\u001b[1;36m10000\u001b[0m\u001b[1;33m)\u001b[0m\u001b[1;33m:\u001b[0m\u001b[1;33m\u001b[0m\u001b[0m\n\u001b[1;32m----> 2\u001b[1;33m     \u001b[0mprint\u001b[0m\u001b[1;33m(\u001b[0m\u001b[1;34m\"I am line\"\u001b[0m\u001b[1;33m,\u001b[0m \u001b[0mi\u001b[0m\u001b[1;33m)\u001b[0m\u001b[1;33m\u001b[0m\u001b[0m\n\u001b[0m",
      "\u001b[1;32mE:\\Study\\Computer\\编程类\\Python\\数据分析与科学计算\\Python科学计算\\codes\\scpy2\\utils\\nbmagics.py\u001b[0m in \u001b[0;36mwrite\u001b[1;34m(string)\u001b[0m\n\u001b[0;32m    375\u001b[0m \u001b[1;33m\u001b[0m\u001b[0m\n\u001b[0;32m    376\u001b[0m                 \u001b[1;32mif\u001b[0m \u001b[0mcounters\u001b[0m\u001b[1;33m[\u001b[0m\u001b[1;34m\"lines\"\u001b[0m\u001b[1;33m]\u001b[0m \u001b[1;33m>=\u001b[0m \u001b[0mmax_lines\u001b[0m\u001b[1;33m:\u001b[0m\u001b[1;33m\u001b[0m\u001b[0m\n\u001b[1;32m--> 377\u001b[1;33m                     \u001b[1;32mraise\u001b[0m \u001b[0mIOError\u001b[0m\u001b[1;33m(\u001b[0m\u001b[1;34m\"Too many lines\"\u001b[0m\u001b[1;33m)\u001b[0m\u001b[1;33m\u001b[0m\u001b[0m\n\u001b[0m\u001b[0;32m    378\u001b[0m                 \u001b[1;32melif\u001b[0m \u001b[0mcounters\u001b[0m\u001b[1;33m[\u001b[0m\u001b[1;34m\"chars\"\u001b[0m\u001b[1;33m]\u001b[0m \u001b[1;33m>=\u001b[0m \u001b[0mmax_chars\u001b[0m\u001b[1;33m:\u001b[0m\u001b[1;33m\u001b[0m\u001b[0m\n\u001b[0;32m    379\u001b[0m                     \u001b[1;32mraise\u001b[0m \u001b[0mIOError\u001b[0m\u001b[1;33m(\u001b[0m\u001b[1;34m\"Too many characters\"\u001b[0m\u001b[1;33m)\u001b[0m\u001b[1;33m\u001b[0m\u001b[0m\n",
      "\u001b[1;31mOSError\u001b[0m: Too many lines"
     ]
    }
   ],
   "source": [
    "%%cut -l 5\n",
    "for i in range(10000):\n",
    "    print((\"I am line\", i))"
   ]
  },
  {
   "cell_type": "markdown",
   "metadata": {},
   "source": [
    "### ％array_image"
   ]
  },
  {
   "cell_type": "markdown",
   "metadata": {},
   "source": [
    "`%array_image`将多个数组拼成一幅图像显示："
   ]
  },
  {
   "cell_type": "code",
   "execution_count": 6,
   "metadata": {},
   "outputs": [
    {
     "data": {
      "image/png": "[encoded data removed]"
     },
     "metadata": {},
     "output_type": "display_data"
    }
   ],
   "source": [
    "import numpy as np\n",
    "a = np.random.rand(100, 100)\n",
    "b = np.random.rand(100, 100, 3)\n",
    "%array_image a; b"
   ]
  },
  {
   "cell_type": "markdown",
   "metadata": {},
   "source": [
    "### %col"
   ]
  },
  {
   "cell_type": "markdown",
   "metadata": {},
   "source": [
    "`%col`分列显示序列："
   ]
  },
  {
   "cell_type": "code",
   "execution_count": 8,
   "metadata": {},
   "outputs": [
    {
     "name": "stdout",
     "output_type": "stream",
     "text": [
      "range(0, 30)   \n"
     ]
    }
   ],
   "source": [
    "a = range(30)\n",
    "%col 6 a"
   ]
  },
  {
   "cell_type": "markdown",
   "metadata": {},
   "source": [
    "### %disabled"
   ]
  },
  {
   "cell_type": "markdown",
   "metadata": {},
   "source": [
    "`%%disabled`不运行代码："
   ]
  },
  {
   "cell_type": "code",
   "execution_count": 6,
   "metadata": {
    "collapsed": true
   },
   "outputs": [],
   "source": [
    "%%disabled\n",
    "hello here"
   ]
  },
  {
   "cell_type": "markdown",
   "metadata": {},
   "source": [
    "### %dot, %%dot"
   ]
  },
  {
   "cell_type": "markdown",
   "metadata": {},
   "source": [
    "`%dot`对其参数求值，并将得到的字符串传递给Graphviz创建箭头图："
   ]
  },
  {
   "cell_type": "code",
   "execution_count": 7,
   "metadata": {},
   "outputs": [
    {
     "data": {
      "image/svg+xml": [
       "<?xml version=\"1.0\" encoding=\"UTF-8\" standalone=\"no\"?>\r\n",
       "<!DOCTYPE svg PUBLIC \"-//W3C//DTD SVG 1.1//EN\"\r\n",
       " \"http://www.w3.org/Graphics/SVG/1.1/DTD/svg11.dtd\">\r\n",
       "<!-- Generated by graphviz version 2.38.0 (20140413.2041)\r\n",
       " -->\r\n",
       "<!-- Title: structs Pages: 1 -->\r\n",
       "<svg width=\"597pt\" height=\"171pt\"\r\n",
       " viewBox=\"0.00 0.00 597.00 171.00\" xmlns=\"http://www.w3.org/2000/svg\" xmlns:xlink=\"http://www.w3.org/1999/xlink\">\r\n",
       "<g id=\"graph0\" class=\"graph\" transform=\"scale(1 1) rotate(0) translate(4 167)\">\r\n",
       "<title>structs</title>\r\n",
       "<polygon fill=\"white\" stroke=\"none\" points=\"-4,4 -4,-167 593,-167 593,4 -4,4\"/>\r\n",
       "<!-- obj_186476912 -->\r\n",
       "<g id=\"node1\" class=\"node\"><title>obj_186476912</title>\r\n",
       "<polygon fill=\"white\" stroke=\"black\" points=\"0,-61.5 0,-97.5 123,-97.5 123,-61.5 0,-61.5\"/>\r\n",
       "<text text-anchor=\"middle\" x=\"61.5\" y=\"-75.8\" font-family=\"Times New Roman,serif\" font-size=\"14.00\">BboxTransformTo</text>\r\n",
       "</g>\r\n",
       "<!-- obj_186476880 -->\r\n",
       "<g id=\"node2\" class=\"node\"><title>obj_186476880</title>\r\n",
       "<polygon fill=\"white\" stroke=\"black\" points=\"193,-61.5 193,-97.5 313,-97.5 313,-61.5 193,-61.5\"/>\r\n",
       "<text text-anchor=\"middle\" x=\"253\" y=\"-75.8\" font-family=\"Times New Roman,serif\" font-size=\"14.00\">TransformedBbox</text>\r\n",
       "</g>\r\n",
       "<!-- obj_186476912&#45;&gt;obj_186476880 -->\r\n",
       "<g id=\"edge6\" class=\"edge\"><title>obj_186476912&#45;&gt;obj_186476880</title>\r\n",
       "<path fill=\"none\" stroke=\"black\" stroke-width=\"0.5\" d=\"M123.241,-79.5C142.232,-79.5 163.324,-79.5 182.849,-79.5\"/>\r\n",
       "<polygon fill=\"black\" stroke=\"black\" stroke-width=\"0.5\" points=\"182.897,-83.0001 192.896,-79.5 182.896,-76.0001 182.897,-83.0001\"/>\r\n",
       "<text text-anchor=\"middle\" x=\"158\" y=\"-82.5\" font-family=\"Times New Roman,serif\" font-size=\"10.00\">_boxout</text>\r\n",
       "</g>\r\n",
       "<!-- obj_186476816 -->\r\n",
       "<g id=\"node3\" class=\"node\"><title>obj_186476816</title>\r\n",
       "<polygon fill=\"white\" stroke=\"black\" points=\"400,-120.5 400,-156.5 454,-156.5 454,-120.5 400,-120.5\"/>\r\n",
       "<text text-anchor=\"middle\" x=\"427\" y=\"-134.8\" font-family=\"Times New Roman,serif\" font-size=\"14.00\">Bbox</text>\r\n",
       "</g>\r\n",
       "<!-- obj_186476880&#45;&gt;obj_186476816 -->\r\n",
       "<g id=\"edge2\" class=\"edge\"><title>obj_186476880&#45;&gt;obj_186476816</title>\r\n",
       "<path fill=\"none\" stroke=\"black\" stroke-width=\"0.5\" d=\"M306.54,-97.5225C333.631,-106.815 365.97,-117.908 390.165,-126.208\"/>\r\n",
       "<polygon fill=\"black\" stroke=\"black\" stroke-width=\"0.5\" points=\"389.072,-129.533 399.666,-129.467 391.343,-122.912 389.072,-129.533\"/>\r\n",
       "<text text-anchor=\"middle\" x=\"353\" y=\"-121.5\" font-family=\"Times New Roman,serif\" font-size=\"10.00\">_bbox</text>\r\n",
       "</g>\r\n",
       "<!-- obj_186361232 -->\r\n",
       "<g id=\"node5\" class=\"node\"><title>obj_186361232</title>\r\n",
       "<polygon fill=\"white\" stroke=\"black\" points=\"393,-61.5 393,-97.5 461,-97.5 461,-61.5 393,-61.5\"/>\r\n",
       "<text text-anchor=\"middle\" x=\"427\" y=\"-75.8\" font-family=\"Times New Roman,serif\" font-size=\"14.00\">Affine2D</text>\r\n",
       "</g>\r\n",
       "<!-- obj_186476880&#45;&gt;obj_186361232 -->\r\n",
       "<g id=\"edge4\" class=\"edge\"><title>obj_186476880&#45;&gt;obj_186361232</title>\r\n",
       "<path fill=\"none\" stroke=\"black\" stroke-width=\"0.5\" d=\"M313.193,-79.5C335.97,-79.5 361.535,-79.5 382.562,-79.5\"/>\r\n",
       "<polygon fill=\"black\" stroke=\"black\" stroke-width=\"0.5\" points=\"382.795,-83.0001 392.795,-79.5 382.795,-76.0001 382.795,-83.0001\"/>\r\n",
       "<text text-anchor=\"middle\" x=\"353\" y=\"-82.5\" font-family=\"Times New Roman,serif\" font-size=\"10.00\">_transform</text>\r\n",
       "</g>\r\n",
       "<!-- obj_183590088 -->\r\n",
       "<g id=\"node7\" class=\"node\"><title>obj_183590088</title>\r\n",
       "<polygon fill=\"white\" stroke=\"black\" points=\"398,-0.5 398,-42.5 456,-42.5 456,-0.5 398,-0.5\"/>\r\n",
       "<text text-anchor=\"start\" x=\"414.5\" y=\"-27.3\" font-family=\"Times New Roman,serif\" font-size=\"9.00\">0</text>\r\n",
       "<text text-anchor=\"start\" x=\"434.5\" y=\"-27.3\" font-family=\"Times New Roman,serif\" font-size=\"9.00\">0</text>\r\n",
       "<text text-anchor=\"start\" x=\"410\" y=\"-11.3\" font-family=\"Times New Roman,serif\" font-size=\"9.00\">800</text>\r\n",
       "<text text-anchor=\"start\" x=\"430\" y=\"-11.3\" font-family=\"Times New Roman,serif\" font-size=\"9.00\">480</text>\r\n",
       "</g>\r\n",
       "<!-- obj_186476880&#45;&gt;obj_183590088 -->\r\n",
       "<g id=\"edge5\" class=\"edge\"><title>obj_186476880&#45;&gt;obj_183590088</title>\r\n",
       "<path fill=\"none\" stroke=\"black\" stroke-width=\"0.5\" d=\"M307.479,-61.4664C333.538,-52.679 364.269,-42.3162 387.908,-34.3449\"/>\r\n",
       "<polygon fill=\"black\" stroke=\"black\" stroke-width=\"0.5\" points=\"389.213,-37.5986 397.571,-31.0867 386.976,-30.9655 389.213,-37.5986\"/>\r\n",
       "<text text-anchor=\"middle\" x=\"353\" y=\"-55.5\" font-family=\"Times New Roman,serif\" font-size=\"10.00\">_points</text>\r\n",
       "</g>\r\n",
       "<!-- obj_183641536 -->\r\n",
       "<g id=\"node4\" class=\"node\"><title>obj_183641536</title>\r\n",
       "<polygon fill=\"white\" stroke=\"black\" points=\"531.5,-120.5 531.5,-162.5 585.5,-162.5 585.5,-120.5 531.5,-120.5\"/>\r\n",
       "<text text-anchor=\"start\" x=\"551\" y=\"-147.3\" font-family=\"Times New Roman,serif\" font-size=\"9.00\">0</text>\r\n",
       "<text text-anchor=\"start\" x=\"564.5\" y=\"-147.3\" font-family=\"Times New Roman,serif\" font-size=\"9.00\">0</text>\r\n",
       "<text text-anchor=\"start\" x=\"548.5\" y=\"-131.3\" font-family=\"Times New Roman,serif\" font-size=\"9.00\">10</text>\r\n",
       "<text text-anchor=\"start\" x=\"564.5\" y=\"-131.3\" font-family=\"Times New Roman,serif\" font-size=\"9.00\">6</text>\r\n",
       "</g>\r\n",
       "<!-- obj_186476816&#45;&gt;obj_183641536 -->\r\n",
       "<g id=\"edge1\" class=\"edge\"><title>obj_186476816&#45;&gt;obj_183641536</title>\r\n",
       "<path fill=\"none\" stroke=\"black\" stroke-width=\"0.5\" d=\"M454.206,-139.107C473.514,-139.554 500.012,-140.168 521.335,-140.662\"/>\r\n",
       "<polygon fill=\"black\" stroke=\"black\" stroke-width=\"0.5\" points=\"521.254,-144.161 531.333,-140.894 521.416,-137.163 521.254,-144.161\"/>\r\n",
       "<text text-anchor=\"middle\" x=\"494.5\" y=\"-142.5\" font-family=\"Times New Roman,serif\" font-size=\"10.00\">_points</text>\r\n",
       "</g>\r\n",
       "<!-- obj_183640336 -->\r\n",
       "<g id=\"node6\" class=\"node\"><title>obj_183640336</title>\r\n",
       "<polygon fill=\"white\" stroke=\"black\" points=\"528,-43.5 528,-101.5 589,-101.5 589,-43.5 528,-43.5\"/>\r\n",
       "<text text-anchor=\"start\" x=\"540.5\" y=\"-86.3\" font-family=\"Times New Roman,serif\" font-size=\"9.00\">80</text>\r\n",
       "<text text-anchor=\"start\" x=\"559\" y=\"-86.3\" font-family=\"Times New Roman,serif\" font-size=\"9.00\">0</text>\r\n",
       "<text text-anchor=\"start\" x=\"572.5\" y=\"-86.3\" font-family=\"Times New Roman,serif\" font-size=\"9.00\">0</text>\r\n",
       "<text text-anchor=\"start\" x=\"543\" y=\"-70.3\" font-family=\"Times New Roman,serif\" font-size=\"9.00\">0</text>\r\n",
       "<text text-anchor=\"start\" x=\"556.5\" y=\"-70.3\" font-family=\"Times New Roman,serif\" font-size=\"9.00\">80</text>\r\n",
       "<text text-anchor=\"start\" x=\"572.5\" y=\"-70.3\" font-family=\"Times New Roman,serif\" font-size=\"9.00\">0</text>\r\n",
       "<text text-anchor=\"start\" x=\"543\" y=\"-54.3\" font-family=\"Times New Roman,serif\" font-size=\"9.00\">0</text>\r\n",
       "<text text-anchor=\"start\" x=\"559\" y=\"-54.3\" font-family=\"Times New Roman,serif\" font-size=\"9.00\">0</text>\r\n",
       "<text text-anchor=\"start\" x=\"572.5\" y=\"-54.3\" font-family=\"Times New Roman,serif\" font-size=\"9.00\">1</text>\r\n",
       "</g>\r\n",
       "<!-- obj_186361232&#45;&gt;obj_183640336 -->\r\n",
       "<g id=\"edge3\" class=\"edge\"><title>obj_186361232&#45;&gt;obj_183640336</title>\r\n",
       "<path fill=\"none\" stroke=\"black\" stroke-width=\"0.5\" d=\"M461.013,-77.7155C478.258,-76.7834 499.492,-75.6356 517.646,-74.6543\"/>\r\n",
       "<polygon fill=\"black\" stroke=\"black\" stroke-width=\"0.5\" points=\"517.85,-78.1484 527.647,-74.1137 517.472,-71.1586 517.85,-78.1484\"/>\r\n",
       "<text text-anchor=\"middle\" x=\"494.5\" y=\"-80.5\" font-family=\"Times New Roman,serif\" font-size=\"10.00\">_mtx</text>\r\n",
       "</g>\r\n",
       "</g>\r\n",
       "</svg>\r\n"
      ]
     },
     "metadata": {},
     "output_type": "display_data"
    }
   ],
   "source": [
    "from scpy2.common import GraphvizMPLTransform\n",
    "import pylab as pl\n",
    "fig = pl.figure()\n",
    "%dot GraphvizMPLTransform.graphviz(fig.transFigure)"
   ]
  },
  {
   "cell_type": "markdown",
   "metadata": {},
   "source": [
    "`%%dot`将`dot`源文件传递给Graphviz创建箭头图："
   ]
  },
  {
   "cell_type": "code",
   "execution_count": 8,
   "metadata": {},
   "outputs": [
    {
     "data": {
      "image/svg+xml": [
       "<?xml version=\"1.0\" encoding=\"UTF-8\" standalone=\"no\"?>\r\n",
       "<!DOCTYPE svg PUBLIC \"-//W3C//DTD SVG 1.1//EN\"\r\n",
       " \"http://www.w3.org/Graphics/SVG/1.1/DTD/svg11.dtd\">\r\n",
       "<!-- Generated by graphviz version 2.38.0 (20140413.2041)\r\n",
       " -->\r\n",
       "<!-- Title: finite_state_machine Pages: 1 -->\r\n",
       "<svg width=\"576pt\" height=\"258pt\"\r\n",
       " viewBox=\"0.00 0.00 576.00 258.45\" xmlns=\"http://www.w3.org/2000/svg\" xmlns:xlink=\"http://www.w3.org/1999/xlink\">\r\n",
       "<g id=\"graph0\" class=\"graph\" transform=\"scale(0.769883 0.769883) rotate(0) translate(4 331.694)\">\r\n",
       "<title>finite_state_machine</title>\r\n",
       "<polygon fill=\"white\" stroke=\"none\" points=\"-4,4 -4,-331.694 744.166,-331.694 744.166,4 -4,4\"/>\r\n",
       "<!-- LR_0 -->\r\n",
       "<g id=\"node1\" class=\"node\"><title>LR_0</title>\r\n",
       "<ellipse fill=\"none\" stroke=\"black\" cx=\"35.8472\" cy=\"-106.847\" rx=\"31.712\" ry=\"31.712\"/>\r\n",
       "<ellipse fill=\"none\" stroke=\"black\" cx=\"35.8472\" cy=\"-106.847\" rx=\"35.695\" ry=\"35.695\"/>\r\n",
       "<text text-anchor=\"middle\" x=\"35.8472\" y=\"-103.147\" font-family=\"Times New Roman,serif\" font-size=\"14.00\">LR_0</text>\r\n",
       "</g>\r\n",
       "<!-- LR_2 -->\r\n",
       "<g id=\"node5\" class=\"node\"><title>LR_2</title>\r\n",
       "<ellipse fill=\"none\" stroke=\"black\" cx=\"174.542\" cy=\"-146.847\" rx=\"31.6951\" ry=\"31.6951\"/>\r\n",
       "<text text-anchor=\"middle\" x=\"174.542\" y=\"-143.147\" font-family=\"Times New Roman,serif\" font-size=\"14.00\">LR_2</text>\r\n",
       "</g>\r\n",
       "<!-- LR_0&#45;&gt;LR_2 -->\r\n",
       "<g id=\"edge1\" class=\"edge\"><title>LR_0&#45;&gt;LR_2</title>\r\n",
       "<path fill=\"none\" stroke=\"black\" d=\"M70.6368,-116.735C89.8449,-122.356 113.995,-129.422 134.071,-135.297\"/>\r\n",
       "<polygon fill=\"black\" stroke=\"black\" points=\"133.274,-138.711 143.855,-138.16 135.24,-131.992 133.274,-138.711\"/>\r\n",
       "<text text-anchor=\"middle\" x=\"107.194\" y=\"-135.647\" font-family=\"Times New Roman,serif\" font-size=\"14.00\">SS(B)</text>\r\n",
       "</g>\r\n",
       "<!-- LR_1 -->\r\n",
       "<g id=\"node6\" class=\"node\"><title>LR_1</title>\r\n",
       "<ellipse fill=\"none\" stroke=\"black\" cx=\"174.542\" cy=\"-54.8472\" rx=\"31.6951\" ry=\"31.6951\"/>\r\n",
       "<text text-anchor=\"middle\" x=\"174.542\" y=\"-51.1472\" font-family=\"Times New Roman,serif\" font-size=\"14.00\">LR_1</text>\r\n",
       "</g>\r\n",
       "<!-- LR_0&#45;&gt;LR_1 -->\r\n",
       "<g id=\"edge2\" class=\"edge\"><title>LR_0&#45;&gt;LR_1</title>\r\n",
       "<path fill=\"none\" stroke=\"black\" d=\"M69.5889,-94.3919C89.2263,-86.9216 114.304,-77.3816 134.909,-69.5435\"/>\r\n",
       "<polygon fill=\"black\" stroke=\"black\" points=\"136.22,-72.7895 144.322,-65.9626 133.731,-66.2469 136.22,-72.7895\"/>\r\n",
       "<text text-anchor=\"middle\" x=\"107.194\" y=\"-89.6472\" font-family=\"Times New Roman,serif\" font-size=\"14.00\">SS(S)</text>\r\n",
       "</g>\r\n",
       "<!-- LR_3 -->\r\n",
       "<g id=\"node2\" class=\"node\"><title>LR_3</title>\r\n",
       "<ellipse fill=\"none\" stroke=\"black\" cx=\"323.236\" cy=\"-35.8472\" rx=\"31.712\" ry=\"31.712\"/>\r\n",
       "<ellipse fill=\"none\" stroke=\"black\" cx=\"323.236\" cy=\"-35.8472\" rx=\"35.695\" ry=\"35.695\"/>\r\n",
       "<text text-anchor=\"middle\" x=\"323.236\" y=\"-32.1472\" font-family=\"Times New Roman,serif\" font-size=\"14.00\">LR_3</text>\r\n",
       "</g>\r\n",
       "<!-- LR_4 -->\r\n",
       "<g id=\"node3\" class=\"node\"><title>LR_4</title>\r\n",
       "<ellipse fill=\"none\" stroke=\"black\" cx=\"323.236\" cy=\"-291.847\" rx=\"31.712\" ry=\"31.712\"/>\r\n",
       "<ellipse fill=\"none\" stroke=\"black\" cx=\"323.236\" cy=\"-291.847\" rx=\"35.695\" ry=\"35.695\"/>\r\n",
       "<text text-anchor=\"middle\" x=\"323.236\" y=\"-288.147\" font-family=\"Times New Roman,serif\" font-size=\"14.00\">LR_4</text>\r\n",
       "</g>\r\n",
       "<!-- LR_8 -->\r\n",
       "<g id=\"node4\" class=\"node\"><title>LR_8</title>\r\n",
       "<ellipse fill=\"none\" stroke=\"black\" cx=\"704.319\" cy=\"-147.847\" rx=\"31.712\" ry=\"31.712\"/>\r\n",
       "<ellipse fill=\"none\" stroke=\"black\" cx=\"704.319\" cy=\"-147.847\" rx=\"35.695\" ry=\"35.695\"/>\r\n",
       "<text text-anchor=\"middle\" x=\"704.319\" y=\"-144.147\" font-family=\"Times New Roman,serif\" font-size=\"14.00\">LR_8</text>\r\n",
       "</g>\r\n",
       "<!-- LR_6 -->\r\n",
       "<g id=\"node7\" class=\"node\"><title>LR_6</title>\r\n",
       "<ellipse fill=\"none\" stroke=\"black\" cx=\"323.236\" cy=\"-172.847\" rx=\"31.6951\" ry=\"31.6951\"/>\r\n",
       "<text text-anchor=\"middle\" x=\"323.236\" y=\"-169.147\" font-family=\"Times New Roman,serif\" font-size=\"14.00\">LR_6</text>\r\n",
       "</g>\r\n",
       "<!-- LR_8&#45;&gt;LR_6 -->\r\n",
       "<g id=\"edge13\" class=\"edge\"><title>LR_8&#45;&gt;LR_6</title>\r\n",
       "<path fill=\"none\" stroke=\"black\" d=\"M669.127,-154.782C625.934,-163.158 549.217,-176.756 482.777,-181.847 454.552,-184.01 447.36,-183.186 419.083,-181.847 401.296,-181.005 381.696,-179.28 364.953,-177.563\"/>\r\n",
       "<polygon fill=\"black\" stroke=\"black\" points=\"365.251,-174.075 354.939,-176.503 364.515,-181.036 365.251,-174.075\"/>\r\n",
       "<text text-anchor=\"middle\" x=\"513.277\" y=\"-184.647\" font-family=\"Times New Roman,serif\" font-size=\"14.00\">S(b)</text>\r\n",
       "</g>\r\n",
       "<!-- LR_5 -->\r\n",
       "<g id=\"node8\" class=\"node\"><title>LR_5</title>\r\n",
       "<ellipse fill=\"none\" stroke=\"black\" cx=\"450.93\" cy=\"-107.847\" rx=\"31.6951\" ry=\"31.6951\"/>\r\n",
       "<text text-anchor=\"middle\" x=\"450.93\" y=\"-104.147\" font-family=\"Times New Roman,serif\" font-size=\"14.00\">LR_5</text>\r\n",
       "</g>\r\n",
       "<!-- LR_8&#45;&gt;LR_5 -->\r\n",
       "<g id=\"edge14\" class=\"edge\"><title>LR_8&#45;&gt;LR_5</title>\r\n",
       "<path fill=\"none\" stroke=\"black\" d=\"M668.545,-142.414C628.191,-136.095 559.65,-125.319 500.777,-115.847 498.086,-115.414 495.312,-114.966 492.517,-114.512\"/>\r\n",
       "<polygon fill=\"black\" stroke=\"black\" points=\"492.845,-111.02 482.413,-112.867 491.72,-117.929 492.845,-111.02\"/>\r\n",
       "<text text-anchor=\"middle\" x=\"575.625\" y=\"-137.647\" font-family=\"Times New Roman,serif\" font-size=\"14.00\">S(a)</text>\r\n",
       "</g>\r\n",
       "<!-- LR_2&#45;&gt;LR_4 -->\r\n",
       "<g id=\"edge6\" class=\"edge\"><title>LR_2&#45;&gt;LR_4</title>\r\n",
       "<path fill=\"none\" stroke=\"black\" d=\"M197.821,-168.87C222.322,-193.087 261.915,-232.223 289.846,-259.831\"/>\r\n",
       "<polygon fill=\"black\" stroke=\"black\" points=\"287.463,-262.397 297.035,-266.938 292.384,-257.418 287.463,-262.397\"/>\r\n",
       "<text text-anchor=\"middle\" x=\"246.889\" y=\"-239.647\" font-family=\"Times New Roman,serif\" font-size=\"14.00\">S(A)</text>\r\n",
       "</g>\r\n",
       "<!-- LR_2&#45;&gt;LR_6 -->\r\n",
       "<g id=\"edge4\" class=\"edge\"><title>LR_2&#45;&gt;LR_6</title>\r\n",
       "<path fill=\"none\" stroke=\"black\" d=\"M205.937,-152.234C227.893,-156.126 257.777,-161.422 281.754,-165.672\"/>\r\n",
       "<polygon fill=\"black\" stroke=\"black\" points=\"281.17,-169.123 291.628,-167.422 282.392,-162.231 281.17,-169.123\"/>\r\n",
       "<text text-anchor=\"middle\" x=\"246.889\" y=\"-167.647\" font-family=\"Times New Roman,serif\" font-size=\"14.00\">SS(b)</text>\r\n",
       "</g>\r\n",
       "<!-- LR_2&#45;&gt;LR_5 -->\r\n",
       "<g id=\"edge5\" class=\"edge\"><title>LR_2&#45;&gt;LR_5</title>\r\n",
       "<path fill=\"none\" stroke=\"black\" d=\"M205.087,-137.127C227.428,-130.219 259.001,-121.39 287.389,-116.847 328.309,-110.299 375.679,-108.299 408.684,-107.786\"/>\r\n",
       "<polygon fill=\"black\" stroke=\"black\" points=\"408.911,-111.284 418.87,-107.668 408.829,-104.284 408.911,-111.284\"/>\r\n",
       "<text text-anchor=\"middle\" x=\"323.236\" y=\"-120.647\" font-family=\"Times New Roman,serif\" font-size=\"14.00\">SS(a)</text>\r\n",
       "</g>\r\n",
       "<!-- LR_1&#45;&gt;LR_3 -->\r\n",
       "<g id=\"edge3\" class=\"edge\"><title>LR_1&#45;&gt;LR_3</title>\r\n",
       "<path fill=\"none\" stroke=\"black\" d=\"M206.293,-50.8642C226.839,-48.2031 254.208,-44.6582 277.196,-41.6808\"/>\r\n",
       "<polygon fill=\"black\" stroke=\"black\" points=\"277.941,-45.1136 287.409,-40.358 277.042,-38.1716 277.941,-45.1136\"/>\r\n",
       "<text text-anchor=\"middle\" x=\"246.889\" y=\"-52.6472\" font-family=\"Times New Roman,serif\" font-size=\"14.00\">S($end)</text>\r\n",
       "</g>\r\n",
       "<!-- LR_6&#45;&gt;LR_6 -->\r\n",
       "<g id=\"edge9\" class=\"edge\"><title>LR_6&#45;&gt;LR_6</title>\r\n",
       "<path fill=\"none\" stroke=\"black\" d=\"M311.262,-202.528C310.87,-213.589 314.861,-222.694 323.236,-222.694 328.863,-222.694 332.511,-218.584 334.18,-212.532\"/>\r\n",
       "<polygon fill=\"black\" stroke=\"black\" points=\"337.667,-212.834 335.21,-202.528 330.704,-212.117 337.667,-212.834\"/>\r\n",
       "<text text-anchor=\"middle\" x=\"323.236\" y=\"-226.494\" font-family=\"Times New Roman,serif\" font-size=\"14.00\">S(b)</text>\r\n",
       "</g>\r\n",
       "<!-- LR_6&#45;&gt;LR_5 -->\r\n",
       "<g id=\"edge10\" class=\"edge\"><title>LR_6&#45;&gt;LR_5</title>\r\n",
       "<path fill=\"none\" stroke=\"black\" d=\"M351.82,-158.583C369.912,-149.227 393.768,-136.89 413.426,-126.724\"/>\r\n",
       "<polygon fill=\"black\" stroke=\"black\" points=\"415.136,-129.781 422.41,-122.078 411.92,-123.563 415.136,-129.781\"/>\r\n",
       "<text text-anchor=\"middle\" x=\"389.083\" y=\"-148.647\" font-family=\"Times New Roman,serif\" font-size=\"14.00\">S(a)</text>\r\n",
       "</g>\r\n",
       "<!-- LR_5&#45;&gt;LR_5 -->\r\n",
       "<g id=\"edge8\" class=\"edge\"><title>LR_5&#45;&gt;LR_5</title>\r\n",
       "<path fill=\"none\" stroke=\"black\" d=\"M439.691,-138.022C439.45,-148.859 443.196,-157.694 450.93,-157.694 456.006,-157.694 459.364,-153.889 461.005,-148.211\"/>\r\n",
       "<polygon fill=\"black\" stroke=\"black\" points=\"464.511,-148.355 462.169,-138.022 457.556,-147.56 464.511,-148.355\"/>\r\n",
       "<text text-anchor=\"middle\" x=\"450.93\" y=\"-161.494\" font-family=\"Times New Roman,serif\" font-size=\"14.00\">S(a)</text>\r\n",
       "</g>\r\n",
       "<!-- LR_7 -->\r\n",
       "<g id=\"node9\" class=\"node\"><title>LR_7</title>\r\n",
       "<ellipse fill=\"none\" stroke=\"black\" cx=\"575.625\" cy=\"-79.8472\" rx=\"31.6951\" ry=\"31.6951\"/>\r\n",
       "<text text-anchor=\"middle\" x=\"575.625\" y=\"-76.1472\" font-family=\"Times New Roman,serif\" font-size=\"14.00\">LR_7</text>\r\n",
       "</g>\r\n",
       "<!-- LR_5&#45;&gt;LR_7 -->\r\n",
       "<g id=\"edge7\" class=\"edge\"><title>LR_5&#45;&gt;LR_7</title>\r\n",
       "<path fill=\"none\" stroke=\"black\" d=\"M482.259,-100.926C497.891,-97.3585 517.169,-92.959 534.063,-89.1037\"/>\r\n",
       "<polygon fill=\"black\" stroke=\"black\" points=\"535.249,-92.4232 544.219,-86.7859 533.691,-85.5986 535.249,-92.4232\"/>\r\n",
       "<text text-anchor=\"middle\" x=\"513.277\" y=\"-100.647\" font-family=\"Times New Roman,serif\" font-size=\"14.00\">S(b)</text>\r\n",
       "</g>\r\n",
       "<!-- LR_7&#45;&gt;LR_8 -->\r\n",
       "<g id=\"edge11\" class=\"edge\"><title>LR_7&#45;&gt;LR_8</title>\r\n",
       "<path fill=\"none\" stroke=\"black\" d=\"M604.384,-94.3732C618.255,-101.666 635.28,-110.668 650.472,-118.847 654.739,-121.145 659.192,-123.56 663.624,-125.976\"/>\r\n",
       "<polygon fill=\"black\" stroke=\"black\" points=\"662.172,-129.17 672.625,-130.896 665.529,-123.028 662.172,-129.17\"/>\r\n",
       "<text text-anchor=\"middle\" x=\"637.972\" y=\"-122.647\" font-family=\"Times New Roman,serif\" font-size=\"14.00\">S(b)</text>\r\n",
       "</g>\r\n",
       "<!-- LR_7&#45;&gt;LR_5 -->\r\n",
       "<g id=\"edge12\" class=\"edge\"><title>LR_7&#45;&gt;LR_5</title>\r\n",
       "<path fill=\"none\" stroke=\"black\" d=\"M544.569,-71.6302C530.928,-69.2535 514.755,-68.3565 500.777,-72.8472 494.781,-74.7738 488.895,-77.7384 483.403,-81.1443\"/>\r\n",
       "<polygon fill=\"black\" stroke=\"black\" points=\"481.431,-78.2524 475.135,-86.7737 485.371,-84.0385 481.431,-78.2524\"/>\r\n",
       "<text text-anchor=\"middle\" x=\"513.277\" y=\"-76.6472\" font-family=\"Times New Roman,serif\" font-size=\"14.00\">S(a)</text>\r\n",
       "</g>\r\n",
       "</g>\r\n",
       "</svg>\r\n"
      ]
     },
     "metadata": {},
     "output_type": "display_data"
    }
   ],
   "source": [
    "%%dot format=svg\n",
    "digraph finite_state_machine {\n",
    "    rankdir=LR;\n",
    "    size=\"8,5\"\n",
    "    node [shape = doublecircle]; LR_0 LR_3 LR_4 LR_8;\n",
    "    node [shape = circle];\n",
    "    LR_0 -> LR_2 [ label = \"SS(B)\" ];\n",
    "    LR_0 -> LR_1 [ label = \"SS(S)\" ];\n",
    "    LR_1 -> LR_3 [ label = \"S($end)\" ];\n",
    "    LR_2 -> LR_6 [ label = \"SS(b)\" ];\n",
    "    LR_2 -> LR_5 [ label = \"SS(a)\" ];\n",
    "    LR_2 -> LR_4 [ label = \"S(A)\" ];\n",
    "    LR_5 -> LR_7 [ label = \"S(b)\" ];\n",
    "    LR_5 -> LR_5 [ label = \"S(a)\" ];\n",
    "    LR_6 -> LR_6 [ label = \"S(b)\" ];\n",
    "    LR_6 -> LR_5 [ label = \"S(a)\" ];\n",
    "    LR_7 -> LR_8 [ label = \"S(b)\" ];\n",
    "    LR_7 -> LR_5 [ label = \"S(a)\" ];\n",
    "    LR_8 -> LR_6 [ label = \"S(b)\" ];\n",
    "    LR_8 -> LR_5 [ label = \"S(a)\" ];\n",
    "}"
   ]
  },
  {
   "cell_type": "markdown",
   "metadata": {},
   "source": [
    "### ％func_debug"
   ]
  },
  {
   "cell_type": "markdown",
   "metadata": {},
   "source": [
    "`%func_debug`在指定的函数调用处设置断点，用于调试库函数的代码："
   ]
  },
  {
   "cell_type": "code",
   "execution_count": 9,
   "metadata": {
    "collapsed": true
   },
   "outputs": [],
   "source": [
    "import random"
   ]
  },
  {
   "cell_type": "code",
   "execution_count": 10,
   "metadata": {},
   "outputs": [
    {
     "name": "stdout",
     "output_type": "stream",
     "text": [
      "Breakpoint 1 at c:\\winpython-32bit-2.7.9.2\\python-2.7.9\\lib\\random.py:277\n",
      "NOTE: Enter 'c' at the ipdb>  prompt to continue execution.\n",
      "> \u001b[1;32mc:\\winpython-32bit-2.7.9.2\\python-2.7.9\\lib\\random.py\u001b[0m(285)\u001b[0;36mshuffle\u001b[1;34m()\u001b[0m\n",
      "\u001b[1;32m    284 \u001b[1;33m\u001b[1;33m\u001b[0m\u001b[0m\n",
      "\u001b[0m\u001b[1;32m--> 285 \u001b[1;33m        \u001b[1;32mif\u001b[0m \u001b[0mrandom\u001b[0m \u001b[1;32mis\u001b[0m \u001b[0mNone\u001b[0m\u001b[1;33m:\u001b[0m\u001b[1;33m\u001b[0m\u001b[0m\n",
      "\u001b[0m\u001b[1;32m    286 \u001b[1;33m            \u001b[0mrandom\u001b[0m \u001b[1;33m=\u001b[0m \u001b[0mself\u001b[0m\u001b[1;33m.\u001b[0m\u001b[0mrandom\u001b[0m\u001b[1;33m\u001b[0m\u001b[0m\n",
      "\u001b[0m\n",
      "ipdb> q\n"
     ]
    }
   ],
   "source": [
    "%%func_debug random.shuffle\n",
    "a = [1, 2, 3]\n",
    "random.shuffle(a)"
   ]
  },
  {
   "cell_type": "markdown",
   "metadata": {},
   "source": [
    "### ％include"
   ]
  },
  {
   "cell_type": "markdown",
   "metadata": {},
   "source": [
    "`%include`载入`scpy2`文件夹下指定文件的指定部分，保证书中的代码与`scpy2`中的代码一致："
   ]
  },
  {
   "cell_type": "code",
   "execution_count": 11,
   "metadata": {},
   "outputs": [],
   "source": [
    "%%include cython cython/vector.pyx 8\n",
    "cdef add_array(double *op1, double *op2, double *res, int count):\n",
    "    cdef int i\n",
    "    for i in range(count):\n",
    "        res[i] = op1[i] + op2[i]\n",
    "\n",
    "cdef add_number(double *op1, double op2, double *res, int count):\n",
    "    cdef int i\n",
    "    for i in range(count):\n",
    "        res[i] = op1[i] + op2"
   ]
  },
  {
   "cell_type": "markdown",
   "metadata": {},
   "source": [
    "### %%language"
   ]
  },
  {
   "cell_type": "markdown",
   "metadata": {},
   "source": [
    "`%%language`不运行代码，在Notebook的Javascript插件根据其后的语言设置高亮显示，目前仅支持`c`："
   ]
  },
  {
   "cell_type": "code",
   "execution_count": 12,
   "metadata": {
    "collapsed": true
   },
   "outputs": [],
   "source": [
    "%%language c\n",
    "#include <stdio.h>\n",
    "    \n",
    "int main()\n",
    "{\n",
    "   return 0; \n",
    "}"
   ]
  },
  {
   "cell_type": "markdown",
   "metadata": {},
   "source": [
    "### %matplotlib_png, %matplotlib_svg"
   ]
  },
  {
   "cell_type": "markdown",
   "metadata": {},
   "source": [
    "`%matplotlib_png`和`%matplotlib_svg`切换matplotlib图表的输出格式："
   ]
  },
  {
   "cell_type": "code",
   "execution_count": 9,
   "metadata": {
    "collapsed": true
   },
   "outputs": [],
   "source": [
    "%matplotlib_png"
   ]
  },
  {
   "cell_type": "code",
   "execution_count": 10,
   "metadata": {},
   "outputs": [
    {
     "name": "stderr",
     "output_type": "stream",
     "text": [
      "d:\\program files\\python\\lib\\site-packages\\matplotlib\\font_manager.py:1297: UserWarning: findfont: Font family ['WenQuanYi Micro Hei'] not found. Falling back to DejaVu Sans\n",
      "  (prop.get_family(), self.defaultFamily[fontext]))\n"
     ]
    },
    {
     "data": {
      "image/png": "[encoded data removed]",
      "text/plain": [
       "<matplotlib.figure.Figure at 0x23d488cfcc0>"
      ]
     },
     "metadata": {},
     "output_type": "display_data"
    }
   ],
   "source": [
    "import pylab as pl\n",
    "import numpy as np\n",
    "pl.plot(np.random.rand(100));"
   ]
  },
  {
   "cell_type": "code",
   "execution_count": 12,
   "metadata": {
    "collapsed": true
   },
   "outputs": [],
   "source": [
    "%matplotlib_svg"
   ]
  },
  {
   "cell_type": "code",
   "execution_count": 13,
   "metadata": {},
   "outputs": [
    {
     "name": "stderr",
     "output_type": "stream",
     "text": [
      "d:\\program files\\python\\lib\\site-packages\\matplotlib\\font_manager.py:1297: UserWarning: findfont: Font family ['WenQuanYi Micro Hei'] not found. Falling back to DejaVu Sans\n",
      "  (prop.get_family(), self.defaultFamily[fontext]))\n"
     ]
    },
    {
     "data": {
      "image/svg+xml": [
       "<?xml version=\"1.0\" encoding=\"utf-8\" standalone=\"no\"?>\r\n",
       "<!DOCTYPE svg PUBLIC \"-//W3C//DTD SVG 1.1//EN\"\r\n",
       "  \"http://www.w3.org/Graphics/SVG/1.1/DTD/svg11.dtd\">\r\n",
       "<!-- Created with matplotlib (http://matplotlib.org/) -->\r\n",
       "<svg height=\"199pt\" version=\"1.1\" viewBox=\"0 0 372 199\" width=\"372pt\" xmlns=\"http://www.w3.org/2000/svg\" xmlns:xlink=\"http://www.w3.org/1999/xlink\">\r\n",
       " <defs>\r\n",
       "  <style type=\"text/css\">\r\n",
       "*{stroke-linecap:butt;stroke-linejoin:round;}\r\n",
       "  </style>\r\n",
       " </defs>\r\n",
       " <g id=\"figure_1\">\r\n",
       "  <g id=\"patch_1\">\r\n",
       "   <path d=\"M 0 199.281878 \r\n",
       "L 372.947303 199.281878 \r\n",
       "L 372.947303 0 \r\n",
       "L 0 0 \r\n",
       "z\r\n",
       "\" style=\"fill:#ffffff;\"/>\r\n",
       "  </g>\r\n",
       "  <g id=\"axes_1\">\r\n",
       "   <g id=\"patch_2\">\r\n",
       "    <path d=\"M 27.447303 177.02 \r\n",
       "L 362.247303 177.02 \r\n",
       "L 362.247303 10.7 \r\n",
       "L 27.447303 10.7 \r\n",
       "z\r\n",
       "\" style=\"fill:#ffffff;\"/>\r\n",
       "   </g>\r\n",
       "   <g id=\"matplotlib.axis_1\">\r\n",
       "    <g id=\"xtick_1\">\r\n",
       "     <g id=\"line2d_1\">\r\n",
       "      <defs>\r\n",
       "       <path d=\"M 0 0 \r\n",
       "L 0 3.5 \r\n",
       "\" id=\"m3fcb1b2eff\" style=\"stroke:#000000;stroke-width:0.8;\"/>\r\n",
       "      </defs>\r\n",
       "      <g>\r\n",
       "       <use style=\"stroke:#000000;stroke-width:0.8;\" x=\"42.665485\" xlink:href=\"#m3fcb1b2eff\" y=\"177.02\"/>\r\n",
       "      </g>\r\n",
       "     </g>\r\n",
       "     <g id=\"text_1\">\r\n",
       "      <!-- 0 -->\r\n",
       "      <defs>\r\n",
       "       <path d=\"M 31.78125 66.40625 \r\n",
       "Q 24.171875 66.40625 20.328125 58.90625 \r\n",
       "Q 16.5 51.421875 16.5 36.375 \r\n",
       "Q 16.5 21.390625 20.328125 13.890625 \r\n",
       "Q 24.171875 6.390625 31.78125 6.390625 \r\n",
       "Q 39.453125 6.390625 43.28125 13.890625 \r\n",
       "Q 47.125 21.390625 47.125 36.375 \r\n",
       "Q 47.125 51.421875 43.28125 58.90625 \r\n",
       "Q 39.453125 66.40625 31.78125 66.40625 \r\n",
       "z\r\n",
       "M 31.78125 74.21875 \r\n",
       "Q 44.046875 74.21875 50.515625 64.515625 \r\n",
       "Q 56.984375 54.828125 56.984375 36.375 \r\n",
       "Q 56.984375 17.96875 50.515625 8.265625 \r\n",
       "Q 44.046875 -1.421875 31.78125 -1.421875 \r\n",
       "Q 19.53125 -1.421875 13.0625 8.265625 \r\n",
       "Q 6.59375 17.96875 6.59375 36.375 \r\n",
       "Q 6.59375 54.828125 13.0625 64.515625 \r\n",
       "Q 19.53125 74.21875 31.78125 74.21875 \r\n",
       "z\r\n",
       "\" id=\"DejaVuSans-30\"/>\r\n",
       "      </defs>\r\n",
       "      <g transform=\"translate(40.015504 190.349498)scale(0.0833 -0.0833)\">\r\n",
       "       <use xlink:href=\"#DejaVuSans-30\"/>\r\n",
       "      </g>\r\n",
       "     </g>\r\n",
       "    </g>\r\n",
       "    <g id=\"xtick_2\">\r\n",
       "     <g id=\"line2d_2\">\r\n",
       "      <g>\r\n",
       "       <use style=\"stroke:#000000;stroke-width:0.8;\" x=\"104.153088\" xlink:href=\"#m3fcb1b2eff\" y=\"177.02\"/>\r\n",
       "      </g>\r\n",
       "     </g>\r\n",
       "     <g id=\"text_2\">\r\n",
       "      <!-- 20 -->\r\n",
       "      <defs>\r\n",
       "       <path d=\"M 19.1875 8.296875 \r\n",
       "L 53.609375 8.296875 \r\n",
       "L 53.609375 0 \r\n",
       "L 7.328125 0 \r\n",
       "L 7.328125 8.296875 \r\n",
       "Q 12.9375 14.109375 22.625 23.890625 \r\n",
       "Q 32.328125 33.6875 34.8125 36.53125 \r\n",
       "Q 39.546875 41.84375 41.421875 45.53125 \r\n",
       "Q 43.3125 49.21875 43.3125 52.78125 \r\n",
       "Q 43.3125 58.59375 39.234375 62.25 \r\n",
       "Q 35.15625 65.921875 28.609375 65.921875 \r\n",
       "Q 23.96875 65.921875 18.8125 64.3125 \r\n",
       "Q 13.671875 62.703125 7.8125 59.421875 \r\n",
       "L 7.8125 69.390625 \r\n",
       "Q 13.765625 71.78125 18.9375 73 \r\n",
       "Q 24.125 74.21875 28.421875 74.21875 \r\n",
       "Q 39.75 74.21875 46.484375 68.546875 \r\n",
       "Q 53.21875 62.890625 53.21875 53.421875 \r\n",
       "Q 53.21875 48.921875 51.53125 44.890625 \r\n",
       "Q 49.859375 40.875 45.40625 35.40625 \r\n",
       "Q 44.1875 33.984375 37.640625 27.21875 \r\n",
       "Q 31.109375 20.453125 19.1875 8.296875 \r\n",
       "z\r\n",
       "\" id=\"DejaVuSans-32\"/>\r\n",
       "      </defs>\r\n",
       "      <g transform=\"translate(98.853126 190.349498)scale(0.0833 -0.0833)\">\r\n",
       "       <use xlink:href=\"#DejaVuSans-32\"/>\r\n",
       "       <use x=\"63.623047\" xlink:href=\"#DejaVuSans-30\"/>\r\n",
       "      </g>\r\n",
       "     </g>\r\n",
       "    </g>\r\n",
       "    <g id=\"xtick_3\">\r\n",
       "     <g id=\"line2d_3\">\r\n",
       "      <g>\r\n",
       "       <use style=\"stroke:#000000;stroke-width:0.8;\" x=\"165.640692\" xlink:href=\"#m3fcb1b2eff\" y=\"177.02\"/>\r\n",
       "      </g>\r\n",
       "     </g>\r\n",
       "     <g id=\"text_3\">\r\n",
       "      <!-- 40 -->\r\n",
       "      <defs>\r\n",
       "       <path d=\"M 37.796875 64.3125 \r\n",
       "L 12.890625 25.390625 \r\n",
       "L 37.796875 25.390625 \r\n",
       "z\r\n",
       "M 35.203125 72.90625 \r\n",
       "L 47.609375 72.90625 \r\n",
       "L 47.609375 25.390625 \r\n",
       "L 58.015625 25.390625 \r\n",
       "L 58.015625 17.1875 \r\n",
       "L 47.609375 17.1875 \r\n",
       "L 47.609375 0 \r\n",
       "L 37.796875 0 \r\n",
       "L 37.796875 17.1875 \r\n",
       "L 4.890625 17.1875 \r\n",
       "L 4.890625 26.703125 \r\n",
       "z\r\n",
       "\" id=\"DejaVuSans-34\"/>\r\n",
       "      </defs>\r\n",
       "      <g transform=\"translate(160.340729 190.349498)scale(0.0833 -0.0833)\">\r\n",
       "       <use xlink:href=\"#DejaVuSans-34\"/>\r\n",
       "       <use x=\"63.623047\" xlink:href=\"#DejaVuSans-30\"/>\r\n",
       "      </g>\r\n",
       "     </g>\r\n",
       "    </g>\r\n",
       "    <g id=\"xtick_4\">\r\n",
       "     <g id=\"line2d_4\">\r\n",
       "      <g>\r\n",
       "       <use style=\"stroke:#000000;stroke-width:0.8;\" x=\"227.128295\" xlink:href=\"#m3fcb1b2eff\" y=\"177.02\"/>\r\n",
       "      </g>\r\n",
       "     </g>\r\n",
       "     <g id=\"text_4\">\r\n",
       "      <!-- 60 -->\r\n",
       "      <defs>\r\n",
       "       <path d=\"M 33.015625 40.375 \r\n",
       "Q 26.375 40.375 22.484375 35.828125 \r\n",
       "Q 18.609375 31.296875 18.609375 23.390625 \r\n",
       "Q 18.609375 15.53125 22.484375 10.953125 \r\n",
       "Q 26.375 6.390625 33.015625 6.390625 \r\n",
       "Q 39.65625 6.390625 43.53125 10.953125 \r\n",
       "Q 47.40625 15.53125 47.40625 23.390625 \r\n",
       "Q 47.40625 31.296875 43.53125 35.828125 \r\n",
       "Q 39.65625 40.375 33.015625 40.375 \r\n",
       "z\r\n",
       "M 52.59375 71.296875 \r\n",
       "L 52.59375 62.3125 \r\n",
       "Q 48.875 64.0625 45.09375 64.984375 \r\n",
       "Q 41.3125 65.921875 37.59375 65.921875 \r\n",
       "Q 27.828125 65.921875 22.671875 59.328125 \r\n",
       "Q 17.53125 52.734375 16.796875 39.40625 \r\n",
       "Q 19.671875 43.65625 24.015625 45.921875 \r\n",
       "Q 28.375 48.1875 33.59375 48.1875 \r\n",
       "Q 44.578125 48.1875 50.953125 41.515625 \r\n",
       "Q 57.328125 34.859375 57.328125 23.390625 \r\n",
       "Q 57.328125 12.15625 50.6875 5.359375 \r\n",
       "Q 44.046875 -1.421875 33.015625 -1.421875 \r\n",
       "Q 20.359375 -1.421875 13.671875 8.265625 \r\n",
       "Q 6.984375 17.96875 6.984375 36.375 \r\n",
       "Q 6.984375 53.65625 15.1875 63.9375 \r\n",
       "Q 23.390625 74.21875 37.203125 74.21875 \r\n",
       "Q 40.921875 74.21875 44.703125 73.484375 \r\n",
       "Q 48.484375 72.75 52.59375 71.296875 \r\n",
       "z\r\n",
       "\" id=\"DejaVuSans-36\"/>\r\n",
       "      </defs>\r\n",
       "      <g transform=\"translate(221.828332 190.349498)scale(0.0833 -0.0833)\">\r\n",
       "       <use xlink:href=\"#DejaVuSans-36\"/>\r\n",
       "       <use x=\"63.623047\" xlink:href=\"#DejaVuSans-30\"/>\r\n",
       "      </g>\r\n",
       "     </g>\r\n",
       "    </g>\r\n",
       "    <g id=\"xtick_5\">\r\n",
       "     <g id=\"line2d_5\">\r\n",
       "      <g>\r\n",
       "       <use style=\"stroke:#000000;stroke-width:0.8;\" x=\"288.615898\" xlink:href=\"#m3fcb1b2eff\" y=\"177.02\"/>\r\n",
       "      </g>\r\n",
       "     </g>\r\n",
       "     <g id=\"text_5\">\r\n",
       "      <!-- 80 -->\r\n",
       "      <defs>\r\n",
       "       <path d=\"M 31.78125 34.625 \r\n",
       "Q 24.75 34.625 20.71875 30.859375 \r\n",
       "Q 16.703125 27.09375 16.703125 20.515625 \r\n",
       "Q 16.703125 13.921875 20.71875 10.15625 \r\n",
       "Q 24.75 6.390625 31.78125 6.390625 \r\n",
       "Q 38.8125 6.390625 42.859375 10.171875 \r\n",
       "Q 46.921875 13.96875 46.921875 20.515625 \r\n",
       "Q 46.921875 27.09375 42.890625 30.859375 \r\n",
       "Q 38.875 34.625 31.78125 34.625 \r\n",
       "z\r\n",
       "M 21.921875 38.8125 \r\n",
       "Q 15.578125 40.375 12.03125 44.71875 \r\n",
       "Q 8.5 49.078125 8.5 55.328125 \r\n",
       "Q 8.5 64.0625 14.71875 69.140625 \r\n",
       "Q 20.953125 74.21875 31.78125 74.21875 \r\n",
       "Q 42.671875 74.21875 48.875 69.140625 \r\n",
       "Q 55.078125 64.0625 55.078125 55.328125 \r\n",
       "Q 55.078125 49.078125 51.53125 44.71875 \r\n",
       "Q 48 40.375 41.703125 38.8125 \r\n",
       "Q 48.828125 37.15625 52.796875 32.3125 \r\n",
       "Q 56.78125 27.484375 56.78125 20.515625 \r\n",
       "Q 56.78125 9.90625 50.3125 4.234375 \r\n",
       "Q 43.84375 -1.421875 31.78125 -1.421875 \r\n",
       "Q 19.734375 -1.421875 13.25 4.234375 \r\n",
       "Q 6.78125 9.90625 6.78125 20.515625 \r\n",
       "Q 6.78125 27.484375 10.78125 32.3125 \r\n",
       "Q 14.796875 37.15625 21.921875 38.8125 \r\n",
       "z\r\n",
       "M 18.3125 54.390625 \r\n",
       "Q 18.3125 48.734375 21.84375 45.5625 \r\n",
       "Q 25.390625 42.390625 31.78125 42.390625 \r\n",
       "Q 38.140625 42.390625 41.71875 45.5625 \r\n",
       "Q 45.3125 48.734375 45.3125 54.390625 \r\n",
       "Q 45.3125 60.0625 41.71875 63.234375 \r\n",
       "Q 38.140625 66.40625 31.78125 66.40625 \r\n",
       "Q 25.390625 66.40625 21.84375 63.234375 \r\n",
       "Q 18.3125 60.0625 18.3125 54.390625 \r\n",
       "z\r\n",
       "\" id=\"DejaVuSans-38\"/>\r\n",
       "      </defs>\r\n",
       "      <g transform=\"translate(283.315936 190.349498)scale(0.0833 -0.0833)\">\r\n",
       "       <use xlink:href=\"#DejaVuSans-38\"/>\r\n",
       "       <use x=\"63.623047\" xlink:href=\"#DejaVuSans-30\"/>\r\n",
       "      </g>\r\n",
       "     </g>\r\n",
       "    </g>\r\n",
       "    <g id=\"xtick_6\">\r\n",
       "     <g id=\"line2d_6\">\r\n",
       "      <g>\r\n",
       "       <use style=\"stroke:#000000;stroke-width:0.8;\" x=\"350.103501\" xlink:href=\"#m3fcb1b2eff\" y=\"177.02\"/>\r\n",
       "      </g>\r\n",
       "     </g>\r\n",
       "     <g id=\"text_6\">\r\n",
       "      <!-- 100 -->\r\n",
       "      <defs>\r\n",
       "       <path d=\"M 12.40625 8.296875 \r\n",
       "L 28.515625 8.296875 \r\n",
       "L 28.515625 63.921875 \r\n",
       "L 10.984375 60.40625 \r\n",
       "L 10.984375 69.390625 \r\n",
       "L 28.421875 72.90625 \r\n",
       "L 38.28125 72.90625 \r\n",
       "L 38.28125 8.296875 \r\n",
       "L 54.390625 8.296875 \r\n",
       "L 54.390625 0 \r\n",
       "L 12.40625 0 \r\n",
       "z\r\n",
       "\" id=\"DejaVuSans-31\"/>\r\n",
       "      </defs>\r\n",
       "      <g transform=\"translate(342.153558 190.349498)scale(0.0833 -0.0833)\">\r\n",
       "       <use xlink:href=\"#DejaVuSans-31\"/>\r\n",
       "       <use x=\"63.623047\" xlink:href=\"#DejaVuSans-30\"/>\r\n",
       "       <use x=\"127.246094\" xlink:href=\"#DejaVuSans-30\"/>\r\n",
       "      </g>\r\n",
       "     </g>\r\n",
       "    </g>\r\n",
       "   </g>\r\n",
       "   <g id=\"matplotlib.axis_2\">\r\n",
       "    <g id=\"ytick_1\">\r\n",
       "     <g id=\"line2d_7\">\r\n",
       "      <defs>\r\n",
       "       <path d=\"M 0 0 \r\n",
       "L -3.5 0 \r\n",
       "\" id=\"m1ff9257e9e\" style=\"stroke:#000000;stroke-width:0.8;\"/>\r\n",
       "      </defs>\r\n",
       "      <g>\r\n",
       "       <use style=\"stroke:#000000;stroke-width:0.8;\" x=\"27.447303\" xlink:href=\"#m1ff9257e9e\" y=\"170.107974\"/>\r\n",
       "      </g>\r\n",
       "     </g>\r\n",
       "     <g id=\"text_7\">\r\n",
       "      <!-- 0.0 -->\r\n",
       "      <defs>\r\n",
       "       <path d=\"M 10.6875 12.40625 \r\n",
       "L 21 12.40625 \r\n",
       "L 21 0 \r\n",
       "L 10.6875 0 \r\n",
       "z\r\n",
       "\" id=\"DejaVuSans-2e\"/>\r\n",
       "      </defs>\r\n",
       "      <g transform=\"translate(7.2 173.272723)scale(0.0833 -0.0833)\">\r\n",
       "       <use xlink:href=\"#DejaVuSans-30\"/>\r\n",
       "       <use x=\"63.623047\" xlink:href=\"#DejaVuSans-2e\"/>\r\n",
       "       <use x=\"95.410156\" xlink:href=\"#DejaVuSans-30\"/>\r\n",
       "      </g>\r\n",
       "     </g>\r\n",
       "    </g>\r\n",
       "    <g id=\"ytick_2\">\r\n",
       "     <g id=\"line2d_8\">\r\n",
       "      <g>\r\n",
       "       <use style=\"stroke:#000000;stroke-width:0.8;\" x=\"27.447303\" xlink:href=\"#m1ff9257e9e\" y=\"139.401143\"/>\r\n",
       "      </g>\r\n",
       "     </g>\r\n",
       "     <g id=\"text_8\">\r\n",
       "      <!-- 0.2 -->\r\n",
       "      <g transform=\"translate(7.2 142.565892)scale(0.0833 -0.0833)\">\r\n",
       "       <use xlink:href=\"#DejaVuSans-30\"/>\r\n",
       "       <use x=\"63.623047\" xlink:href=\"#DejaVuSans-2e\"/>\r\n",
       "       <use x=\"95.410156\" xlink:href=\"#DejaVuSans-32\"/>\r\n",
       "      </g>\r\n",
       "     </g>\r\n",
       "    </g>\r\n",
       "    <g id=\"ytick_3\">\r\n",
       "     <g id=\"line2d_9\">\r\n",
       "      <g>\r\n",
       "       <use style=\"stroke:#000000;stroke-width:0.8;\" x=\"27.447303\" xlink:href=\"#m1ff9257e9e\" y=\"108.694313\"/>\r\n",
       "      </g>\r\n",
       "     </g>\r\n",
       "     <g id=\"text_9\">\r\n",
       "      <!-- 0.4 -->\r\n",
       "      <g transform=\"translate(7.2 111.859062)scale(0.0833 -0.0833)\">\r\n",
       "       <use xlink:href=\"#DejaVuSans-30\"/>\r\n",
       "       <use x=\"63.623047\" xlink:href=\"#DejaVuSans-2e\"/>\r\n",
       "       <use x=\"95.410156\" xlink:href=\"#DejaVuSans-34\"/>\r\n",
       "      </g>\r\n",
       "     </g>\r\n",
       "    </g>\r\n",
       "    <g id=\"ytick_4\">\r\n",
       "     <g id=\"line2d_10\">\r\n",
       "      <g>\r\n",
       "       <use style=\"stroke:#000000;stroke-width:0.8;\" x=\"27.447303\" xlink:href=\"#m1ff9257e9e\" y=\"77.987482\"/>\r\n",
       "      </g>\r\n",
       "     </g>\r\n",
       "     <g id=\"text_10\">\r\n",
       "      <!-- 0.6 -->\r\n",
       "      <g transform=\"translate(7.2 81.152231)scale(0.0833 -0.0833)\">\r\n",
       "       <use xlink:href=\"#DejaVuSans-30\"/>\r\n",
       "       <use x=\"63.623047\" xlink:href=\"#DejaVuSans-2e\"/>\r\n",
       "       <use x=\"95.410156\" xlink:href=\"#DejaVuSans-36\"/>\r\n",
       "      </g>\r\n",
       "     </g>\r\n",
       "    </g>\r\n",
       "    <g id=\"ytick_5\">\r\n",
       "     <g id=\"line2d_11\">\r\n",
       "      <g>\r\n",
       "       <use style=\"stroke:#000000;stroke-width:0.8;\" x=\"27.447303\" xlink:href=\"#m1ff9257e9e\" y=\"47.280652\"/>\r\n",
       "      </g>\r\n",
       "     </g>\r\n",
       "     <g id=\"text_11\">\r\n",
       "      <!-- 0.8 -->\r\n",
       "      <g transform=\"translate(7.2 50.445401)scale(0.0833 -0.0833)\">\r\n",
       "       <use xlink:href=\"#DejaVuSans-30\"/>\r\n",
       "       <use x=\"63.623047\" xlink:href=\"#DejaVuSans-2e\"/>\r\n",
       "       <use x=\"95.410156\" xlink:href=\"#DejaVuSans-38\"/>\r\n",
       "      </g>\r\n",
       "     </g>\r\n",
       "    </g>\r\n",
       "    <g id=\"ytick_6\">\r\n",
       "     <g id=\"line2d_12\">\r\n",
       "      <g>\r\n",
       "       <use style=\"stroke:#000000;stroke-width:0.8;\" x=\"27.447303\" xlink:href=\"#m1ff9257e9e\" y=\"16.573821\"/>\r\n",
       "      </g>\r\n",
       "     </g>\r\n",
       "     <g id=\"text_12\">\r\n",
       "      <!-- 1.0 -->\r\n",
       "      <g transform=\"translate(7.2 19.73857)scale(0.0833 -0.0833)\">\r\n",
       "       <use xlink:href=\"#DejaVuSans-31\"/>\r\n",
       "       <use x=\"63.623047\" xlink:href=\"#DejaVuSans-2e\"/>\r\n",
       "       <use x=\"95.410156\" xlink:href=\"#DejaVuSans-30\"/>\r\n",
       "      </g>\r\n",
       "     </g>\r\n",
       "    </g>\r\n",
       "   </g>\r\n",
       "   <g id=\"line2d_13\">\r\n",
       "    <path clip-path=\"url(#pc31775615f)\" d=\"M 42.665485 100.457731 \r\n",
       "L 45.739865 126.718127 \r\n",
       "L 48.814245 96.995371 \r\n",
       "L 51.888625 23.41031 \r\n",
       "L 54.963006 99.002781 \r\n",
       "L 58.037386 109.228198 \r\n",
       "L 61.111766 99.258182 \r\n",
       "L 64.186146 121.588803 \r\n",
       "L 67.260526 84.382294 \r\n",
       "L 70.334906 103.946668 \r\n",
       "L 73.409287 169.46 \r\n",
       "L 76.483667 52.167349 \r\n",
       "L 79.558047 89.384102 \r\n",
       "L 82.632427 130.915215 \r\n",
       "L 85.706807 165.915722 \r\n",
       "L 88.781187 124.279118 \r\n",
       "L 91.855568 53.131956 \r\n",
       "L 94.929948 109.165172 \r\n",
       "L 98.004328 109.956218 \r\n",
       "L 101.078708 135.06514 \r\n",
       "L 104.153088 116.355917 \r\n",
       "L 107.227468 35.136285 \r\n",
       "L 110.301849 119.108597 \r\n",
       "L 113.376229 166.381729 \r\n",
       "L 116.450609 93.019669 \r\n",
       "L 119.524989 110.50764 \r\n",
       "L 122.599369 86.311344 \r\n",
       "L 125.673749 103.857325 \r\n",
       "L 128.74813 93.742631 \r\n",
       "L 131.82251 113.672009 \r\n",
       "L 134.89689 25.792447 \r\n",
       "L 137.97127 80.556585 \r\n",
       "L 141.04565 152.892173 \r\n",
       "L 144.12003 90.71942 \r\n",
       "L 147.194411 64.148391 \r\n",
       "L 150.268791 67.601202 \r\n",
       "L 153.343171 118.578762 \r\n",
       "L 156.417551 157.683823 \r\n",
       "L 159.491931 67.288891 \r\n",
       "L 162.566311 161.648054 \r\n",
       "L 165.640692 34.350635 \r\n",
       "L 168.715072 78.563735 \r\n",
       "L 171.789452 21.177896 \r\n",
       "L 174.863832 164.71544 \r\n",
       "L 177.938212 75.150483 \r\n",
       "L 181.012592 85.084894 \r\n",
       "L 184.086973 124.014285 \r\n",
       "L 187.161353 113.985073 \r\n",
       "L 190.235733 54.671989 \r\n",
       "L 193.310113 124.06452 \r\n",
       "L 196.384493 39.809585 \r\n",
       "L 199.458873 129.791488 \r\n",
       "L 202.533254 21.437131 \r\n",
       "L 205.607634 124.434475 \r\n",
       "L 208.682014 134.809515 \r\n",
       "L 211.756394 26.838826 \r\n",
       "L 214.830774 33.048591 \r\n",
       "L 217.905154 164.459213 \r\n",
       "L 220.979535 64.182146 \r\n",
       "L 224.053915 62.461803 \r\n",
       "L 227.128295 93.278562 \r\n",
       "L 230.202675 129.050874 \r\n",
       "L 233.277055 46.389885 \r\n",
       "L 236.351435 31.362029 \r\n",
       "L 239.425816 33.399619 \r\n",
       "L 242.500196 19.687307 \r\n",
       "L 245.574576 70.802085 \r\n",
       "L 248.648956 159.333599 \r\n",
       "L 251.723336 126.770504 \r\n",
       "L 254.797716 164.459975 \r\n",
       "L 257.872097 167.920765 \r\n",
       "L 260.946477 90.774306 \r\n",
       "L 264.020857 98.995507 \r\n",
       "L 267.095237 65.300533 \r\n",
       "L 270.169617 19.568264 \r\n",
       "L 273.243997 106.783876 \r\n",
       "L 276.318378 72.793537 \r\n",
       "L 279.392758 149.981971 \r\n",
       "L 282.467138 51.024434 \r\n",
       "L 285.541518 94.481659 \r\n",
       "L 288.615898 82.806801 \r\n",
       "L 291.690278 104.951015 \r\n",
       "L 294.764658 57.005114 \r\n",
       "L 297.839039 92.236405 \r\n",
       "L 300.913419 84.044817 \r\n",
       "L 303.987799 91.535877 \r\n",
       "L 307.062179 114.819874 \r\n",
       "L 310.136559 80.585256 \r\n",
       "L 313.210939 30.73726 \r\n",
       "L 316.28532 91.397154 \r\n",
       "L 319.3597 69.54425 \r\n",
       "L 322.43408 148.5329 \r\n",
       "L 325.50846 150.473579 \r\n",
       "L 328.58284 132.242453 \r\n",
       "L 331.65722 83.166412 \r\n",
       "L 334.731601 138.049578 \r\n",
       "L 337.805981 153.920777 \r\n",
       "L 340.880361 65.534202 \r\n",
       "L 343.954741 18.26 \r\n",
       "L 347.029121 114.898499 \r\n",
       "\" style=\"fill:none;stroke:#348abd;stroke-linecap:square;stroke-width:2;\"/>\r\n",
       "   </g>\r\n",
       "   <g id=\"patch_3\">\r\n",
       "    <path d=\"M 27.447303 177.02 \r\n",
       "L 27.447303 10.7 \r\n",
       "\" style=\"fill:none;stroke:#000000;stroke-linecap:square;stroke-linejoin:miter;stroke-width:0.8;\"/>\r\n",
       "   </g>\r\n",
       "   <g id=\"patch_4\">\r\n",
       "    <path d=\"M 362.247303 177.02 \r\n",
       "L 362.247303 10.7 \r\n",
       "\" style=\"fill:none;stroke:#000000;stroke-linecap:square;stroke-linejoin:miter;stroke-width:0.8;\"/>\r\n",
       "   </g>\r\n",
       "   <g id=\"patch_5\">\r\n",
       "    <path d=\"M 27.447303 177.02 \r\n",
       "L 362.247303 177.02 \r\n",
       "\" style=\"fill:none;stroke:#000000;stroke-linecap:square;stroke-linejoin:miter;stroke-width:0.8;\"/>\r\n",
       "   </g>\r\n",
       "   <g id=\"patch_6\">\r\n",
       "    <path d=\"M 27.447303 10.7 \r\n",
       "L 362.247303 10.7 \r\n",
       "\" style=\"fill:none;stroke:#000000;stroke-linecap:square;stroke-linejoin:miter;stroke-width:0.8;\"/>\r\n",
       "   </g>\r\n",
       "  </g>\r\n",
       " </g>\r\n",
       " <defs>\r\n",
       "  <clipPath id=\"pc31775615f\">\r\n",
       "   <rect height=\"166.32\" width=\"334.8\" x=\"27.447303\" y=\"10.7\"/>\r\n",
       "  </clipPath>\r\n",
       " </defs>\r\n",
       "</svg>\r\n"
      ],
      "text/plain": [
       "<matplotlib.figure.Figure at 0x23d488cff28>"
      ]
     },
     "metadata": {},
     "output_type": "display_data"
    }
   ],
   "source": [
    "pl.plot(np.random.rand(100));"
   ]
  },
  {
   "cell_type": "markdown",
   "metadata": {},
   "source": [
    "### %%mlab_plot"
   ]
  },
  {
   "cell_type": "markdown",
   "metadata": {},
   "source": [
    "`%%mlab_plot`将Mayavi的场景截图嵌入到Notebook中："
   ]
  },
  {
   "cell_type": "code",
   "execution_count": 14,
   "metadata": {},
   "outputs": [
    {
     "name": "stdout",
     "output_type": "stream",
     "text": [
      "********************************************************************************\n",
      "WARNING: Imported VTK version (8.0) does not match the one used\n",
      "         to build the TVTK classes (7.1). This may cause problems.\n",
      "         Please rebuild TVTK.\n",
      "********************************************************************************\n",
      "\n"
     ]
    },
    {
     "ename": "ImportError",
     "evalue": "cannot import name 'vtk_scene_to_array'",
     "output_type": "error",
     "traceback": [
      "\u001b[1;31m---------------------------------------------------------------------------\u001b[0m",
      "\u001b[1;31mImportError\u001b[0m                               Traceback (most recent call last)",
      "\u001b[1;32m<ipython-input-14-544d45277136>\u001b[0m in \u001b[0;36m<module>\u001b[1;34m()\u001b[0m\n\u001b[1;32m----> 1\u001b[1;33m \u001b[0mget_ipython\u001b[0m\u001b[1;33m(\u001b[0m\u001b[1;33m)\u001b[0m\u001b[1;33m.\u001b[0m\u001b[0mrun_cell_magic\u001b[0m\u001b[1;33m(\u001b[0m\u001b[1;34m'mlab_plot'\u001b[0m\u001b[1;33m,\u001b[0m \u001b[1;34m''\u001b[0m\u001b[1;33m,\u001b[0m \u001b[1;34m'from numpy import pi, sin, cos, mgrid\\ndphi, dtheta = pi/250.0, pi/250.0\\n[phi,theta] = mgrid[0:pi+dphi*1.5:dphi,0:2*pi+dtheta*1.5:dtheta]\\nm0 = 4; m1 = 3; m2 = 2; m3 = 3; m4 = 6; m5 = 2; m6 = 6; m7 = 4;\\nr = sin(m0*phi)**m1 + cos(m2*phi)**m3 + sin(m4*theta)**m5 + cos(m6*theta)**m7\\nx = r*sin(phi)*cos(theta)\\ny = r*cos(phi)\\nz = r*sin(phi)*sin(theta)\\n\\n# View it.\\nfrom mayavi import mlab\\ns = mlab.mesh(x, y, z)\\nmlab.show()'\u001b[0m\u001b[1;33m)\u001b[0m\u001b[1;33m\u001b[0m\u001b[0m\n\u001b[0m",
      "\u001b[1;32md:\\program files\\python\\lib\\site-packages\\IPython\\core\\interactiveshell.py\u001b[0m in \u001b[0;36mrun_cell_magic\u001b[1;34m(self, magic_name, line, cell)\u001b[0m\n\u001b[0;32m   2101\u001b[0m             \u001b[0mmagic_arg_s\u001b[0m \u001b[1;33m=\u001b[0m \u001b[0mself\u001b[0m\u001b[1;33m.\u001b[0m\u001b[0mvar_expand\u001b[0m\u001b[1;33m(\u001b[0m\u001b[0mline\u001b[0m\u001b[1;33m,\u001b[0m \u001b[0mstack_depth\u001b[0m\u001b[1;33m)\u001b[0m\u001b[1;33m\u001b[0m\u001b[0m\n\u001b[0;32m   2102\u001b[0m             \u001b[1;32mwith\u001b[0m \u001b[0mself\u001b[0m\u001b[1;33m.\u001b[0m\u001b[0mbuiltin_trap\u001b[0m\u001b[1;33m:\u001b[0m\u001b[1;33m\u001b[0m\u001b[0m\n\u001b[1;32m-> 2103\u001b[1;33m                 \u001b[0mresult\u001b[0m \u001b[1;33m=\u001b[0m \u001b[0mfn\u001b[0m\u001b[1;33m(\u001b[0m\u001b[0mmagic_arg_s\u001b[0m\u001b[1;33m,\u001b[0m \u001b[0mcell\u001b[0m\u001b[1;33m)\u001b[0m\u001b[1;33m\u001b[0m\u001b[0m\n\u001b[0m\u001b[0;32m   2104\u001b[0m             \u001b[1;32mreturn\u001b[0m \u001b[0mresult\u001b[0m\u001b[1;33m\u001b[0m\u001b[0m\n\u001b[0;32m   2105\u001b[0m \u001b[1;33m\u001b[0m\u001b[0m\n",
      "\u001b[1;32m<decorator-gen-171>\u001b[0m in \u001b[0;36mmlab_plot\u001b[1;34m(self, line, cell)\u001b[0m\n",
      "\u001b[1;32md:\\program files\\python\\lib\\site-packages\\IPython\\core\\magic.py\u001b[0m in \u001b[0;36m<lambda>\u001b[1;34m(f, *a, **k)\u001b[0m\n\u001b[0;32m    185\u001b[0m     \u001b[1;31m# but it's overkill for just that one bit of state.\u001b[0m\u001b[1;33m\u001b[0m\u001b[1;33m\u001b[0m\u001b[0m\n\u001b[0;32m    186\u001b[0m     \u001b[1;32mdef\u001b[0m \u001b[0mmagic_deco\u001b[0m\u001b[1;33m(\u001b[0m\u001b[0marg\u001b[0m\u001b[1;33m)\u001b[0m\u001b[1;33m:\u001b[0m\u001b[1;33m\u001b[0m\u001b[0m\n\u001b[1;32m--> 187\u001b[1;33m         \u001b[0mcall\u001b[0m \u001b[1;33m=\u001b[0m \u001b[1;32mlambda\u001b[0m \u001b[0mf\u001b[0m\u001b[1;33m,\u001b[0m \u001b[1;33m*\u001b[0m\u001b[0ma\u001b[0m\u001b[1;33m,\u001b[0m \u001b[1;33m**\u001b[0m\u001b[0mk\u001b[0m\u001b[1;33m:\u001b[0m \u001b[0mf\u001b[0m\u001b[1;33m(\u001b[0m\u001b[1;33m*\u001b[0m\u001b[0ma\u001b[0m\u001b[1;33m,\u001b[0m \u001b[1;33m**\u001b[0m\u001b[0mk\u001b[0m\u001b[1;33m)\u001b[0m\u001b[1;33m\u001b[0m\u001b[0m\n\u001b[0m\u001b[0;32m    188\u001b[0m \u001b[1;33m\u001b[0m\u001b[0m\n\u001b[0;32m    189\u001b[0m         \u001b[1;32mif\u001b[0m \u001b[0mcallable\u001b[0m\u001b[1;33m(\u001b[0m\u001b[0marg\u001b[0m\u001b[1;33m)\u001b[0m\u001b[1;33m:\u001b[0m\u001b[1;33m\u001b[0m\u001b[0m\n",
      "\u001b[1;32mE:\\Study\\Computer\\编程类\\Python\\数据分析与科学计算\\Python科学计算\\codes\\scpy2\\utils\\nbmagics.py\u001b[0m in \u001b[0;36mmlab_plot\u001b[1;34m(self, line, cell)\u001b[0m\n\u001b[0;32m    322\u001b[0m                 \u001b[0mscene\u001b[0m\u001b[1;33m.\u001b[0m\u001b[0mscene\u001b[0m\u001b[1;33m.\u001b[0m\u001b[0mbackground\u001b[0m \u001b[1;33m=\u001b[0m \u001b[1;36m1\u001b[0m\u001b[1;33m,\u001b[0m \u001b[1;36m1\u001b[0m\u001b[1;33m,\u001b[0m \u001b[1;36m1\u001b[0m\u001b[1;33m\u001b[0m\u001b[0m\n\u001b[0;32m    323\u001b[0m                 \u001b[0mip\u001b[0m\u001b[1;33m.\u001b[0m\u001b[0mrun_cell\u001b[0m\u001b[1;33m(\u001b[0m\u001b[0mcell\u001b[0m\u001b[1;33m)\u001b[0m\u001b[1;33m\u001b[0m\u001b[0m\n\u001b[1;32m--> 324\u001b[1;33m                 \u001b[1;32mfrom\u001b[0m \u001b[0mscpy2\u001b[0m \u001b[1;32mimport\u001b[0m \u001b[0mvtk_scene_to_array\u001b[0m\u001b[1;33m\u001b[0m\u001b[0m\n\u001b[0m\u001b[0;32m    325\u001b[0m                 \u001b[0mimg\u001b[0m \u001b[1;33m=\u001b[0m \u001b[0mvtk_scene_to_array\u001b[0m\u001b[1;33m(\u001b[0m\u001b[0mscene\u001b[0m\u001b[1;33m.\u001b[0m\u001b[0mscene\u001b[0m\u001b[1;33m)\u001b[0m\u001b[1;33m\u001b[0m\u001b[0m\n\u001b[0;32m    326\u001b[0m                 \u001b[1;32mreturn\u001b[0m \u001b[0mshow_arrays\u001b[0m\u001b[1;33m(\u001b[0m\u001b[1;33m[\u001b[0m\u001b[0mimg\u001b[0m\u001b[1;33m]\u001b[0m\u001b[1;33m)\u001b[0m\u001b[1;33m\u001b[0m\u001b[0m\n",
      "\u001b[1;31mImportError\u001b[0m: cannot import name 'vtk_scene_to_array'"
     ]
    }
   ],
   "source": [
    "%%mlab_plot\n",
    "from numpy import pi, sin, cos, mgrid\n",
    "dphi, dtheta = pi/250.0, pi/250.0\n",
    "[phi,theta] = mgrid[0:pi+dphi*1.5:dphi,0:2*pi+dtheta*1.5:dtheta]\n",
    "m0 = 4; m1 = 3; m2 = 2; m3 = 3; m4 = 6; m5 = 2; m6 = 6; m7 = 4;\n",
    "r = sin(m0*phi)**m1 + cos(m2*phi)**m3 + sin(m4*theta)**m5 + cos(m6*theta)**m7\n",
    "x = r*sin(phi)*cos(theta)\n",
    "y = r*cos(phi)\n",
    "z = r*sin(phi)*sin(theta)\n",
    "\n",
    "# View it.\n",
    "from mayavi import mlab\n",
    "s = mlab.mesh(x, y, z)\n",
    "mlab.show()"
   ]
  },
  {
   "cell_type": "markdown",
   "metadata": {},
   "source": [
    "### %%next_input"
   ]
  },
  {
   "cell_type": "markdown",
   "metadata": {},
   "source": [
    "`%%next_input`将当前单元格的运算结果作为下个单元格的内容，他的行参数为作为输出的变量名："
   ]
  },
  {
   "cell_type": "code",
   "execution_count": 18,
   "metadata": {},
   "outputs": [],
   "source": [
    "%%next_input res\n",
    "lines = []\n",
    "for i in range(4):\n",
    "    lines.append(\"print {}\".format(i))\n",
    "res = \"\\n\".join(lines)"
   ]
  },
  {
   "cell_type": "code",
   "execution_count": null,
   "metadata": {
    "collapsed": true
   },
   "outputs": [],
   "source": [
    "print((0))\n",
    "print((1))\n",
    "print((2))\n",
    "print((3))"
   ]
  },
  {
   "cell_type": "markdown",
   "metadata": {},
   "source": [
    "### %%nopage"
   ]
  },
  {
   "cell_type": "markdown",
   "metadata": {},
   "source": [
    "将在Page中显示的内容在单元的输出中显示，通常用于捕捉`%%prun`的输出："
   ]
  },
  {
   "cell_type": "code",
   "execution_count": 21,
   "metadata": {},
   "outputs": [
    {
     "name": "stdout",
     "output_type": "stream",
     "text": [
      "         104 function calls in 0.000 seconds\n",
      "\n",
      "   Ordered by: internal time\n",
      "\n",
      "   ncalls  tottime  percall  cumtime  percall filename:lineno(function)\n",
      "        1    0.000    0.000    0.000    0.000 random.py:277(shuffle)\n",
      "        1    0.000    0.000    0.000    0.000 <string>:2(<module>)\n",
      "       99    0.000    0.000    0.000    0.000 {method 'random' of '_random.Random' objects}\n",
      "        1    0.000    0.000    0.000    0.000 {range}\n",
      "        1    0.000    0.000    0.000    0.000 {len}\n",
      "        1    0.000    0.000    0.000    0.000 {method 'disable' of '_lsprof.Profiler' objects}\n",
      " "
     ]
    }
   ],
   "source": [
    "%%nopage\n",
    "%%prun\n",
    "import random\n",
    "a = range(100)\n",
    "random.shuffle(a)"
   ]
  },
  {
   "cell_type": "markdown",
   "metadata": {},
   "source": [
    "### %omit"
   ]
  },
  {
   "cell_type": "markdown",
   "metadata": {},
   "source": [
    "`%omit`使用省略号显示较长的序列："
   ]
  },
  {
   "cell_type": "code",
   "execution_count": 22,
   "metadata": {},
   "outputs": [
    {
     "name": "stdout",
     "output_type": "stream",
     "text": [
      "[0,\n",
      " 1,\n",
      " 2,\n",
      " 3,\n",
      " 4,\n",
      "...\n"
     ]
    }
   ],
   "source": [
    "%omit 5 range(100)"
   ]
  },
  {
   "cell_type": "markdown",
   "metadata": {},
   "source": [
    "### %%thread"
   ]
  },
  {
   "cell_type": "markdown",
   "metadata": {},
   "source": [
    "`%%thread`在新线程中运行代码："
   ]
  },
  {
   "cell_type": "code",
   "execution_count": 23,
   "metadata": {},
   "outputs": [],
   "source": [
    "%%thread\n",
    "import time\n",
    "import sys\n",
    "for i in range(10):\n",
    "    time.sleep(2.0)"
   ]
  },
  {
   "cell_type": "markdown",
   "metadata": {},
   "source": [
    "### %%exec_python"
   ]
  },
  {
   "cell_type": "markdown",
   "metadata": {},
   "source": [
    "`%exec_python`在新进程中运行Python命令行，用于启动本书的实例程序。与`!python`不同，它不等待进程的运行结束。"
   ]
  },
  {
   "cell_type": "code",
   "execution_count": 24,
   "metadata": {
    "collapsed": true
   },
   "outputs": [],
   "source": [
    "%exec_python -m scpy2.examples.fractal.ifs_demo"
   ]
  },
  {
   "cell_type": "markdown",
   "metadata": {},
   "source": [
    "### %init_sympy_printing"
   ]
  },
  {
   "cell_type": "markdown",
   "metadata": {},
   "source": [
    "`%init_sympy_printing`调用`sympy.init_printing()`并删除与`__buildin__`模块中对象的显示方法。这样列表、元组等对象能采用通常的文本显示："
   ]
  },
  {
   "cell_type": "code",
   "execution_count": 25,
   "metadata": {},
   "outputs": [],
   "source": [
    "%init_sympy_printing"
   ]
  },
  {
   "cell_type": "markdown",
   "metadata": {},
   "source": [
    "列表使用简单文本显示："
   ]
  },
  {
   "cell_type": "code",
   "execution_count": 26,
   "metadata": {},
   "outputs": [
    {
     "data": {
      "text/plain": [
       "[1, 2, 3]"
      ]
     },
     "execution_count": 26,
     "metadata": {},
     "output_type": "execute_result"
    }
   ],
   "source": [
    "[1, 2, 3]"
   ]
  },
  {
   "cell_type": "markdown",
   "metadata": {},
   "source": [
    "### %sympy_latex"
   ]
  },
  {
   "cell_type": "markdown",
   "metadata": {},
   "source": [
    "当需要将列表或元组作为数学公式显示时，使用`%sympy_latex`："
   ]
  },
  {
   "cell_type": "code",
   "execution_count": null,
   "metadata": {},
   "outputs": [],
   "source": [
    "from sympy import symbols, solve\n",
    "a, b, c, x = symbols(\"a,b,c,x\")\n",
    "%sympy_latex solve(a * x ** 2 + b * x + c, x)"
   ]
  },
  {
   "cell_type": "code",
   "execution_count": null,
   "metadata": {
    "collapsed": true
   },
   "outputs": [],
   "source": []
  }
 ],
 "metadata": {
  "kernelspec": {
   "display_name": "Python 3",
   "language": "python",
   "name": "python3"
  },
  "language_info": {
   "codemirror_mode": {
    "name": "ipython",
    "version": 3
   },
   "file_extension": ".py",
   "mimetype": "text/x-python",
   "name": "python",
   "nbconvert_exporter": "python",
   "pygments_lexer": "ipython3"
  }
 },
 "nbformat": 4,
 "nbformat_minor": 1
}
